{
 "cells": [
  {
   "cell_type": "markdown",
   "metadata": {},
   "source": [
    "<center>\n",
    "    <img src=\"https://s3-api.us-geo.objectstorage.softlayer.net/cf-courses-data/CognitiveClass/Logos/organization_logo/organization_logo.png\" width=\"300\" alt=\"cognitiveclass.ai logo\"  />\n",
    "</center>\n"
   ]
  },
  {
   "cell_type": "markdown",
   "metadata": {},
   "source": [
    "#### Add your code below following the instructions given in the course\n"
   ]
  },
  {
   "cell_type": "markdown",
   "metadata": {},
   "source": [
    "# My Jupyter Notebook on IBM Watson Studio"
   ]
  },
  {
   "cell_type": "markdown",
   "metadata": {},
   "source": [
    "**Naga Sravanthi Pinnadhari**\n",
    "\n",
    "\n",
    "Desired occupation - Data Scientist"
   ]
  },
  {
   "cell_type": "markdown",
   "metadata": {},
   "source": [
    "*I'm interested in data science because it will enable me to gain better insights while working with data so that I can help and recommend in making better and informed decisions there by driving businesses and creating impact*"
   ]
  },
  {
   "cell_type": "markdown",
   "metadata": {},
   "source": [
    "### My code in the next cell gives a new list with variables that have letter b present in it"
   ]
  },
  {
   "cell_type": "code",
   "execution_count": 3,
   "metadata": {},
   "outputs": [
    {
     "name": "stdout",
     "output_type": "stream",
     "text": [
      "['book', 'bangles', 'banayan']\n"
     ]
    }
   ],
   "source": [
    "list1 = [\"book\", \"bangles\", \"aeroplane\", \"pencil\", \"banayan\", \"food\"]\n",
    "newlist = [x for x in list1 if \"b\" in x]\n",
    "print(newlist)\n"
   ]
  },
  {
   "cell_type": "markdown",
   "metadata": {},
   "source": [
    "#### Below is the numbered and bulleted list along with a table \n",
    "* List 1 with bullet point\n",
    "2. List 2 with number \n",
    "* Another bullet point \n",
    "\n",
    "|List 1|List 2|List 3|\n",
    "|------|------|------|\n",
    "|**bullet list**|*number list*|~~image~~|\n",
    "|Yes|yes|yes|\n",
    "\n",
    "\n",
    "\n",
    "\n",
    "`python` is used in cell 5:\n",
    "![alt text](https://upload.wikimedia.org/wikipedia/commons/c/c3/Python-logo-notext.svg \"img 1\")\n",
    "\n",
    "\n"
   ]
  },
  {
   "cell_type": "code",
   "execution_count": null,
   "metadata": {},
   "outputs": [],
   "source": []
  }
 ],
 "metadata": {
  "kernelspec": {
   "display_name": "Python",
   "language": "python",
   "name": "conda-env-python-py"
  },
  "language_info": {
   "codemirror_mode": {
    "name": "ipython",
    "version": 3
   },
   "file_extension": ".py",
   "mimetype": "text/x-python",
   "name": "python",
   "nbconvert_exporter": "python",
   "pygments_lexer": "ipython3",
   "version": "3.7.12"
  }
 },
 "nbformat": 4,
 "nbformat_minor": 4
}
